{
 "cells": [
  {
   "cell_type": "code",
   "execution_count": 1,
   "metadata": {},
   "outputs": [
    {
     "name": "stdout",
     "output_type": "stream",
     "text": [
      "Collecting yfinance\n",
      "  Downloading yfinance-0.2.36-py2.py3-none-any.whl (72 kB)\n",
      "     -------------------------------------- 72.4/72.4 kB 565.1 kB/s eta 0:00:00\n",
      "Requirement already satisfied: numpy>=1.16.5 in c:\\users\\91891\\appdata\\local\\programs\\python\\python310\\lib\\site-packages (from yfinance) (1.26.4)\n",
      "Requirement already satisfied: requests>=2.31 in c:\\users\\91891\\appdata\\local\\programs\\python\\python310\\lib\\site-packages (from yfinance) (2.31.0)\n",
      "Requirement already satisfied: pandas>=1.3.0 in c:\\users\\91891\\appdata\\local\\programs\\python\\python310\\lib\\site-packages (from yfinance) (2.2.0)\n",
      "Collecting appdirs>=1.4.4\n",
      "  Downloading appdirs-1.4.4-py2.py3-none-any.whl (9.6 kB)\n",
      "Collecting frozendict>=2.3.4\n",
      "  Downloading frozendict-2.4.0-cp310-cp310-win_amd64.whl (36 kB)\n",
      "Requirement already satisfied: beautifulsoup4>=4.11.1 in c:\\users\\91891\\appdata\\local\\programs\\python\\python310\\lib\\site-packages (from yfinance) (4.11.1)\n",
      "Collecting html5lib>=1.1\n",
      "  Downloading html5lib-1.1-py2.py3-none-any.whl (112 kB)\n",
      "     -------------------------------------- 112.2/112.2 kB 6.8 MB/s eta 0:00:00\n",
      "Collecting peewee>=3.16.2\n",
      "  Downloading peewee-3.17.1.tar.gz (3.0 MB)\n",
      "     ---------------------------------------- 3.0/3.0 MB 12.5 MB/s eta 0:00:00\n",
      "  Installing build dependencies: started\n",
      "  Installing build dependencies: finished with status 'done'\n",
      "  Getting requirements to build wheel: started\n",
      "  Getting requirements to build wheel: finished with status 'done'\n",
      "  Preparing metadata (pyproject.toml): started\n",
      "  Preparing metadata (pyproject.toml): finished with status 'done'\n",
      "Requirement already satisfied: lxml>=4.9.1 in c:\\users\\91891\\appdata\\local\\programs\\python\\python310\\lib\\site-packages (from yfinance) (5.1.0)\n",
      "Collecting multitasking>=0.0.7\n",
      "  Downloading multitasking-0.0.11-py3-none-any.whl (8.5 kB)\n",
      "Requirement already satisfied: pytz>=2022.5 in c:\\users\\91891\\appdata\\local\\programs\\python\\python310\\lib\\site-packages (from yfinance) (2024.1)\n",
      "Requirement already satisfied: soupsieve>1.2 in c:\\users\\91891\\appdata\\local\\programs\\python\\python310\\lib\\site-packages (from beautifulsoup4>=4.11.1->yfinance) (2.3.2.post1)\n",
      "Requirement already satisfied: six>=1.9 in c:\\users\\91891\\appdata\\local\\programs\\python\\python310\\lib\\site-packages (from html5lib>=1.1->yfinance) (1.16.0)\n",
      "Requirement already satisfied: webencodings in c:\\users\\91891\\appdata\\local\\programs\\python\\python310\\lib\\site-packages (from html5lib>=1.1->yfinance) (0.5.1)\n",
      "Requirement already satisfied: tzdata>=2022.7 in c:\\users\\91891\\appdata\\local\\programs\\python\\python310\\lib\\site-packages (from pandas>=1.3.0->yfinance) (2024.1)\n",
      "Requirement already satisfied: python-dateutil>=2.8.2 in c:\\users\\91891\\appdata\\local\\programs\\python\\python310\\lib\\site-packages (from pandas>=1.3.0->yfinance) (2.8.2)\n",
      "Requirement already satisfied: charset-normalizer<4,>=2 in c:\\users\\91891\\appdata\\local\\programs\\python\\python310\\lib\\site-packages (from requests>=2.31->yfinance) (2.1.1)\n",
      "Requirement already satisfied: urllib3<3,>=1.21.1 in c:\\users\\91891\\appdata\\local\\programs\\python\\python310\\lib\\site-packages (from requests>=2.31->yfinance) (1.26.12)\n",
      "Requirement already satisfied: idna<4,>=2.5 in c:\\users\\91891\\appdata\\local\\programs\\python\\python310\\lib\\site-packages (from requests>=2.31->yfinance) (3.4)\n",
      "Requirement already satisfied: certifi>=2017.4.17 in c:\\users\\91891\\appdata\\local\\programs\\python\\python310\\lib\\site-packages (from requests>=2.31->yfinance) (2022.9.24)\n",
      "Building wheels for collected packages: peewee\n",
      "  Building wheel for peewee (pyproject.toml): started\n",
      "  Building wheel for peewee (pyproject.toml): finished with status 'done'\n",
      "  Created wheel for peewee: filename=peewee-3.17.1-py3-none-any.whl size=136948 sha256=b45b2989e49870958c7262b65855d7d2768b4b742ba41be87ef5f86a23391003\n",
      "  Stored in directory: c:\\users\\91891\\appdata\\local\\pip\\cache\\wheels\\d7\\35\\5c\\1374782be033462df5f40174d8d879519d64ed8c25a1977554\n",
      "Successfully built peewee\n",
      "Installing collected packages: peewee, multitasking, appdirs, html5lib, frozendict, yfinance\n",
      "Successfully installed appdirs-1.4.4 frozendict-2.4.0 html5lib-1.1 multitasking-0.0.11 peewee-3.17.1 yfinance-0.2.36\n",
      "Note: you may need to restart the kernel to use updated packages.\n"
     ]
    },
    {
     "name": "stderr",
     "output_type": "stream",
     "text": [
      "\n",
      "[notice] A new release of pip available: 22.2.2 -> 24.0\n",
      "[notice] To update, run: python.exe -m pip install --upgrade pip\n"
     ]
    }
   ],
   "source": [
    "pip install yfinance\n"
   ]
  },
  {
   "cell_type": "code",
   "execution_count": 2,
   "metadata": {},
   "outputs": [],
   "source": [
    "import yfinance as yf\n",
    "import pandas as pd\n",
    "import numpy as np\n",
    "\n",
    "\n",
    "ticker_data1 = yf.Ticker('GOOG')\n",
    "ticker_data2 = yf.Ticker('MSFT')"
   ]
  },
  {
   "cell_type": "code",
   "execution_count": 3,
   "metadata": {},
   "outputs": [],
   "source": [
    "import datetime as dt\n",
    "from datetime import date, timedelta\n",
    "today = date.today()\n",
    "d1= today.strftime(\"%Y-%m-%d\")\n",
    "d2 = (today - timedelta(days=365)).strftime(\"%Y-%m-%d\")\n",
    "start_date=d2\n",
    "end_date=d1"
   ]
  },
  {
   "cell_type": "code",
   "execution_count": 4,
   "metadata": {},
   "outputs": [
    {
     "name": "stderr",
     "output_type": "stream",
     "text": [
      "c:\\Users\\91891\\AppData\\Local\\Programs\\Python\\Python310\\lib\\site-packages\\yfinance\\utils.py:775: FutureWarning: The 'unit' keyword in TimedeltaIndex construction is deprecated and will be removed in a future version. Use pd.to_timedelta instead.\n",
      "  df.index += _pd.TimedeltaIndex(dst_error_hours, 'h')\n",
      "c:\\Users\\91891\\AppData\\Local\\Programs\\Python\\Python310\\lib\\site-packages\\yfinance\\utils.py:775: FutureWarning: The 'unit' keyword in TimedeltaIndex construction is deprecated and will be removed in a future version. Use pd.to_timedelta instead.\n",
      "  df.index += _pd.TimedeltaIndex(dst_error_hours, 'h')\n"
     ]
    }
   ],
   "source": [
    "tickerDf1 = ticker_data1.history(period='1d', start='2018-01-01', end=end_date)\n",
    "tickerDf2 = ticker_data2.history(period='1d', start='2018-01-01', end=end_date)"
   ]
  },
  {
   "cell_type": "code",
   "execution_count": 10,
   "metadata": {},
   "outputs": [
    {
     "ename": "NameError",
     "evalue": "name 'tickerDF2' is not defined",
     "output_type": "error",
     "traceback": [
      "\u001b[1;31m---------------------------------------------------------------------------\u001b[0m",
      "\u001b[1;31mNameError\u001b[0m                                 Traceback (most recent call last)",
      "Cell \u001b[1;32mIn[10], line 2\u001b[0m\n\u001b[0;32m      1\u001b[0m tickerDf1\u001b[38;5;241m.\u001b[39mhead()\n\u001b[1;32m----> 2\u001b[0m \u001b[43mtickerDF2\u001b[49m\u001b[38;5;241m.\u001b[39mtail()\n",
      "\u001b[1;31mNameError\u001b[0m: name 'tickerDF2' is not defined"
     ]
    }
   ],
   "source": [
    "tickerDf1.head()\n"
   ]
  },
  {
   "cell_type": "code",
   "execution_count": 11,
   "metadata": {},
   "outputs": [
    {
     "data": {
      "text/html": [
       "<div>\n",
       "<style scoped>\n",
       "    .dataframe tbody tr th:only-of-type {\n",
       "        vertical-align: middle;\n",
       "    }\n",
       "\n",
       "    .dataframe tbody tr th {\n",
       "        vertical-align: top;\n",
       "    }\n",
       "\n",
       "    .dataframe thead th {\n",
       "        text-align: right;\n",
       "    }\n",
       "</style>\n",
       "<table border=\"1\" class=\"dataframe\">\n",
       "  <thead>\n",
       "    <tr style=\"text-align: right;\">\n",
       "      <th></th>\n",
       "      <th>Open</th>\n",
       "      <th>High</th>\n",
       "      <th>Low</th>\n",
       "      <th>Close</th>\n",
       "      <th>Volume</th>\n",
       "      <th>Dividends</th>\n",
       "      <th>Stock Splits</th>\n",
       "    </tr>\n",
       "    <tr>\n",
       "      <th>Date</th>\n",
       "      <th></th>\n",
       "      <th></th>\n",
       "      <th></th>\n",
       "      <th></th>\n",
       "      <th></th>\n",
       "      <th></th>\n",
       "      <th></th>\n",
       "    </tr>\n",
       "  </thead>\n",
       "  <tbody>\n",
       "    <tr>\n",
       "      <th>2024-02-13 00:00:00-05:00</th>\n",
       "      <td>404.192550</td>\n",
       "      <td>409.313085</td>\n",
       "      <td>402.645423</td>\n",
       "      <td>405.570007</td>\n",
       "      <td>27824900</td>\n",
       "      <td>0.00</td>\n",
       "      <td>0.0</td>\n",
       "    </tr>\n",
       "    <tr>\n",
       "      <th>2024-02-14 00:00:00-05:00</th>\n",
       "      <td>408.070007</td>\n",
       "      <td>409.839996</td>\n",
       "      <td>404.570007</td>\n",
       "      <td>409.489990</td>\n",
       "      <td>20401200</td>\n",
       "      <td>0.75</td>\n",
       "      <td>0.0</td>\n",
       "    </tr>\n",
       "    <tr>\n",
       "      <th>2024-02-15 00:00:00-05:00</th>\n",
       "      <td>408.140015</td>\n",
       "      <td>409.130005</td>\n",
       "      <td>404.290009</td>\n",
       "      <td>406.559998</td>\n",
       "      <td>21825500</td>\n",
       "      <td>0.00</td>\n",
       "      <td>0.0</td>\n",
       "    </tr>\n",
       "    <tr>\n",
       "      <th>2024-02-16 00:00:00-05:00</th>\n",
       "      <td>407.959991</td>\n",
       "      <td>408.290009</td>\n",
       "      <td>403.440002</td>\n",
       "      <td>404.059998</td>\n",
       "      <td>22281100</td>\n",
       "      <td>0.00</td>\n",
       "      <td>0.0</td>\n",
       "    </tr>\n",
       "    <tr>\n",
       "      <th>2024-02-20 00:00:00-05:00</th>\n",
       "      <td>403.239990</td>\n",
       "      <td>404.489990</td>\n",
       "      <td>398.010010</td>\n",
       "      <td>402.790009</td>\n",
       "      <td>24278300</td>\n",
       "      <td>0.00</td>\n",
       "      <td>0.0</td>\n",
       "    </tr>\n",
       "  </tbody>\n",
       "</table>\n",
       "</div>"
      ],
      "text/plain": [
       "                                 Open        High         Low       Close  \\\n",
       "Date                                                                        \n",
       "2024-02-13 00:00:00-05:00  404.192550  409.313085  402.645423  405.570007   \n",
       "2024-02-14 00:00:00-05:00  408.070007  409.839996  404.570007  409.489990   \n",
       "2024-02-15 00:00:00-05:00  408.140015  409.130005  404.290009  406.559998   \n",
       "2024-02-16 00:00:00-05:00  407.959991  408.290009  403.440002  404.059998   \n",
       "2024-02-20 00:00:00-05:00  403.239990  404.489990  398.010010  402.790009   \n",
       "\n",
       "                             Volume  Dividends  Stock Splits  \n",
       "Date                                                          \n",
       "2024-02-13 00:00:00-05:00  27824900       0.00           0.0  \n",
       "2024-02-14 00:00:00-05:00  20401200       0.75           0.0  \n",
       "2024-02-15 00:00:00-05:00  21825500       0.00           0.0  \n",
       "2024-02-16 00:00:00-05:00  22281100       0.00           0.0  \n",
       "2024-02-20 00:00:00-05:00  24278300       0.00           0.0  "
      ]
     },
     "execution_count": 11,
     "metadata": {},
     "output_type": "execute_result"
    }
   ],
   "source": [
    "tickerDf2.tail()"
   ]
  },
  {
   "cell_type": "code",
   "execution_count": 54,
   "metadata": {},
   "outputs": [
    {
     "name": "stdout",
     "output_type": "stream",
     "text": [
      "Note: you may need to restart the kernel to use updated packages.Requirement already satisfied: matplotlib in c:\\users\\91891\\appdata\\local\\programs\\python\\python310\\lib\\site-packages (3.8.3)\n",
      "\n"
     ]
    },
    {
     "name": "stderr",
     "output_type": "stream",
     "text": [
      "ERROR: Could not find a version that satisfies the requirement as (from versions: none)\n",
      "ERROR: No matching distribution found for as\n",
      "\n",
      "[notice] A new release of pip available: 22.2.2 -> 24.0\n",
      "[notice] To update, run: python.exe -m pip install --upgrade pip\n"
     ]
    }
   ],
   "source": [
    "pip install matplotlib "
   ]
  },
  {
   "cell_type": "code",
   "execution_count": 55,
   "metadata": {},
   "outputs": [
    {
     "data": {
      "text/plain": [
       "<Axes: title={'center': \"Microsoft's stock price\"}, xlabel='Date'>"
      ]
     },
     "execution_count": 55,
     "metadata": {},
     "output_type": "execute_result"
    },
    {
     "data": {
      "image/png": "[encoded data removed]",
      "text/plain": [
       "<Figure size 640x480 with 1 Axes>"
      ]
     },
     "metadata": {},
     "output_type": "display_data"
    }
   ],
   "source": [
    "tickerDf1['Close'].plot(title=\"google's stock price\" , color='green')\n",
    "tickerDf2['Close'].plot(title=\"Microsoft's stock price\" , color='blue')"
   ]
  },
  {
   "cell_type": "code",
   "execution_count": 56,
   "metadata": {},
   "outputs": [],
   "source": [
    "tickerDf1.to_csv('google.csv')\n",
    "tickerDf2.to_csv('microsoft.csv')"
   ]
  },
  {
   "cell_type": "code",
   "execution_count": 57,
   "metadata": {},
   "outputs": [
    {
     "data": {
      "text/html": [
       "<div>\n",
       "<style scoped>\n",
       "    .dataframe tbody tr th:only-of-type {\n",
       "        vertical-align: middle;\n",
       "    }\n",
       "\n",
       "    .dataframe tbody tr th {\n",
       "        vertical-align: top;\n",
       "    }\n",
       "\n",
       "    .dataframe thead th {\n",
       "        text-align: right;\n",
       "    }\n",
       "</style>\n",
       "<table border=\"1\" class=\"dataframe\">\n",
       "  <thead>\n",
       "    <tr style=\"text-align: right;\">\n",
       "      <th></th>\n",
       "      <th>Date</th>\n",
       "      <th>Open</th>\n",
       "      <th>High</th>\n",
       "      <th>Low</th>\n",
       "      <th>Close</th>\n",
       "      <th>Volume</th>\n",
       "      <th>Dividends</th>\n",
       "      <th>Stock Splits</th>\n",
       "    </tr>\n",
       "  </thead>\n",
       "  <tbody>\n",
       "    <tr>\n",
       "      <th>0</th>\n",
       "      <td>2018-01-02 00:00:00-05:00</td>\n",
       "      <td>52.417000</td>\n",
       "      <td>53.347000</td>\n",
       "      <td>52.261501</td>\n",
       "      <td>53.250000</td>\n",
       "      <td>24752000</td>\n",
       "      <td>0.0</td>\n",
       "      <td>0.0</td>\n",
       "    </tr>\n",
       "    <tr>\n",
       "      <th>1</th>\n",
       "      <td>2018-01-03 00:00:00-05:00</td>\n",
       "      <td>53.215500</td>\n",
       "      <td>54.314499</td>\n",
       "      <td>53.160500</td>\n",
       "      <td>54.124001</td>\n",
       "      <td>28604000</td>\n",
       "      <td>0.0</td>\n",
       "      <td>0.0</td>\n",
       "    </tr>\n",
       "    <tr>\n",
       "      <th>2</th>\n",
       "      <td>2018-01-04 00:00:00-05:00</td>\n",
       "      <td>54.400002</td>\n",
       "      <td>54.678501</td>\n",
       "      <td>54.200100</td>\n",
       "      <td>54.320000</td>\n",
       "      <td>20092000</td>\n",
       "      <td>0.0</td>\n",
       "      <td>0.0</td>\n",
       "    </tr>\n",
       "    <tr>\n",
       "      <th>3</th>\n",
       "      <td>2018-01-05 00:00:00-05:00</td>\n",
       "      <td>54.700001</td>\n",
       "      <td>55.212502</td>\n",
       "      <td>54.599998</td>\n",
       "      <td>55.111500</td>\n",
       "      <td>25582000</td>\n",
       "      <td>0.0</td>\n",
       "      <td>0.0</td>\n",
       "    </tr>\n",
       "    <tr>\n",
       "      <th>4</th>\n",
       "      <td>2018-01-08 00:00:00-05:00</td>\n",
       "      <td>55.111500</td>\n",
       "      <td>55.563499</td>\n",
       "      <td>55.081001</td>\n",
       "      <td>55.347000</td>\n",
       "      <td>20952000</td>\n",
       "      <td>0.0</td>\n",
       "      <td>0.0</td>\n",
       "    </tr>\n",
       "  </tbody>\n",
       "</table>\n",
       "</div>"
      ],
      "text/plain": [
       "                       Date       Open       High        Low      Close  \\\n",
       "0 2018-01-02 00:00:00-05:00  52.417000  53.347000  52.261501  53.250000   \n",
       "1 2018-01-03 00:00:00-05:00  53.215500  54.314499  53.160500  54.124001   \n",
       "2 2018-01-04 00:00:00-05:00  54.400002  54.678501  54.200100  54.320000   \n",
       "3 2018-01-05 00:00:00-05:00  54.700001  55.212502  54.599998  55.111500   \n",
       "4 2018-01-08 00:00:00-05:00  55.111500  55.563499  55.081001  55.347000   \n",
       "\n",
       "     Volume  Dividends  Stock Splits  \n",
       "0  24752000        0.0           0.0  \n",
       "1  28604000        0.0           0.0  \n",
       "2  20092000        0.0           0.0  \n",
       "3  25582000        0.0           0.0  \n",
       "4  20952000        0.0           0.0  "
      ]
     },
     "execution_count": 57,
     "metadata": {},
     "output_type": "execute_result"
    }
   ],
   "source": [
    "df1=tickerDf1\n",
    "df2=tickerDf2\n",
    "df1=df1.reset_index()\n",
    "df1.head()"
   ]
  },
  {
   "cell_type": "code",
   "execution_count": 58,
   "metadata": {},
   "outputs": [],
   "source": [
    "df1=df1.drop(['Date','Dividends','Stock Splits'],axis=1)"
   ]
  },
  {
   "cell_type": "code",
   "execution_count": 59,
   "metadata": {},
   "outputs": [
    {
     "data": {
      "text/html": [
       "<div>\n",
       "<style scoped>\n",
       "    .dataframe tbody tr th:only-of-type {\n",
       "        vertical-align: middle;\n",
       "    }\n",
       "\n",
       "    .dataframe tbody tr th {\n",
       "        vertical-align: top;\n",
       "    }\n",
       "\n",
       "    .dataframe thead th {\n",
       "        text-align: right;\n",
       "    }\n",
       "</style>\n",
       "<table border=\"1\" class=\"dataframe\">\n",
       "  <thead>\n",
       "    <tr style=\"text-align: right;\">\n",
       "      <th></th>\n",
       "      <th>Open</th>\n",
       "      <th>High</th>\n",
       "      <th>Low</th>\n",
       "      <th>Close</th>\n",
       "      <th>Volume</th>\n",
       "    </tr>\n",
       "  </thead>\n",
       "  <tbody>\n",
       "    <tr>\n",
       "      <th>0</th>\n",
       "      <td>52.417000</td>\n",
       "      <td>53.347000</td>\n",
       "      <td>52.261501</td>\n",
       "      <td>53.250000</td>\n",
       "      <td>24752000</td>\n",
       "    </tr>\n",
       "    <tr>\n",
       "      <th>1</th>\n",
       "      <td>53.215500</td>\n",
       "      <td>54.314499</td>\n",
       "      <td>53.160500</td>\n",
       "      <td>54.124001</td>\n",
       "      <td>28604000</td>\n",
       "    </tr>\n",
       "    <tr>\n",
       "      <th>2</th>\n",
       "      <td>54.400002</td>\n",
       "      <td>54.678501</td>\n",
       "      <td>54.200100</td>\n",
       "      <td>54.320000</td>\n",
       "      <td>20092000</td>\n",
       "    </tr>\n",
       "    <tr>\n",
       "      <th>3</th>\n",
       "      <td>54.700001</td>\n",
       "      <td>55.212502</td>\n",
       "      <td>54.599998</td>\n",
       "      <td>55.111500</td>\n",
       "      <td>25582000</td>\n",
       "    </tr>\n",
       "    <tr>\n",
       "      <th>4</th>\n",
       "      <td>55.111500</td>\n",
       "      <td>55.563499</td>\n",
       "      <td>55.081001</td>\n",
       "      <td>55.347000</td>\n",
       "      <td>20952000</td>\n",
       "    </tr>\n",
       "  </tbody>\n",
       "</table>\n",
       "</div>"
      ],
      "text/plain": [
       "        Open       High        Low      Close    Volume\n",
       "0  52.417000  53.347000  52.261501  53.250000  24752000\n",
       "1  53.215500  54.314499  53.160500  54.124001  28604000\n",
       "2  54.400002  54.678501  54.200100  54.320000  20092000\n",
       "3  54.700001  55.212502  54.599998  55.111500  25582000\n",
       "4  55.111500  55.563499  55.081001  55.347000  20952000"
      ]
     },
     "execution_count": 59,
     "metadata": {},
     "output_type": "execute_result"
    }
   ],
   "source": [
    "df1.head()"
   ]
  },
  {
   "cell_type": "code",
   "execution_count": 62,
   "metadata": {},
   "outputs": [
    {
     "data": {
      "text/plain": [
       "[<matplotlib.lines.Line2D at 0x23cb0413a30>]"
      ]
     },
     "execution_count": 62,
     "metadata": {},
     "output_type": "execute_result"
    },
    {
     "data": {
      "image/png": "[encoded data removed]",
      "text/plain": [
       "<Figure size 640x480 with 1 Axes>"
      ]
     },
     "metadata": {},
     "output_type": "display_data"
    }
   ],
   "source": [
    "import matplotlib.pyplot as plt\n",
    "plt.plot(df1.Close)\n"
   ]
  },
  {
   "cell_type": "code",
   "execution_count": 63,
   "metadata": {},
   "outputs": [
    {
     "data": {
      "text/html": [
       "<div>\n",
       "<style scoped>\n",
       "    .dataframe tbody tr th:only-of-type {\n",
       "        vertical-align: middle;\n",
       "    }\n",
       "\n",
       "    .dataframe tbody tr th {\n",
       "        vertical-align: top;\n",
       "    }\n",
       "\n",
       "    .dataframe thead th {\n",
       "        text-align: right;\n",
       "    }\n",
       "</style>\n",
       "<table border=\"1\" class=\"dataframe\">\n",
       "  <thead>\n",
       "    <tr style=\"text-align: right;\">\n",
       "      <th></th>\n",
       "      <th>Open</th>\n",
       "      <th>High</th>\n",
       "      <th>Low</th>\n",
       "      <th>Close</th>\n",
       "      <th>Volume</th>\n",
       "    </tr>\n",
       "  </thead>\n",
       "  <tbody>\n",
       "    <tr>\n",
       "      <th>0</th>\n",
       "      <td>52.417000</td>\n",
       "      <td>53.347000</td>\n",
       "      <td>52.261501</td>\n",
       "      <td>53.250000</td>\n",
       "      <td>24752000</td>\n",
       "    </tr>\n",
       "    <tr>\n",
       "      <th>1</th>\n",
       "      <td>53.215500</td>\n",
       "      <td>54.314499</td>\n",
       "      <td>53.160500</td>\n",
       "      <td>54.124001</td>\n",
       "      <td>28604000</td>\n",
       "    </tr>\n",
       "    <tr>\n",
       "      <th>2</th>\n",
       "      <td>54.400002</td>\n",
       "      <td>54.678501</td>\n",
       "      <td>54.200100</td>\n",
       "      <td>54.320000</td>\n",
       "      <td>20092000</td>\n",
       "    </tr>\n",
       "    <tr>\n",
       "      <th>3</th>\n",
       "      <td>54.700001</td>\n",
       "      <td>55.212502</td>\n",
       "      <td>54.599998</td>\n",
       "      <td>55.111500</td>\n",
       "      <td>25582000</td>\n",
       "    </tr>\n",
       "    <tr>\n",
       "      <th>4</th>\n",
       "      <td>55.111500</td>\n",
       "      <td>55.563499</td>\n",
       "      <td>55.081001</td>\n",
       "      <td>55.347000</td>\n",
       "      <td>20952000</td>\n",
       "    </tr>\n",
       "    <tr>\n",
       "      <th>...</th>\n",
       "      <td>...</td>\n",
       "      <td>...</td>\n",
       "      <td>...</td>\n",
       "      <td>...</td>\n",
       "      <td>...</td>\n",
       "    </tr>\n",
       "    <tr>\n",
       "      <th>1538</th>\n",
       "      <td>146.070007</td>\n",
       "      <td>148.039993</td>\n",
       "      <td>145.110001</td>\n",
       "      <td>146.369995</td>\n",
       "      <td>18138500</td>\n",
       "    </tr>\n",
       "    <tr>\n",
       "      <th>1539</th>\n",
       "      <td>147.369995</td>\n",
       "      <td>147.830002</td>\n",
       "      <td>145.554993</td>\n",
       "      <td>147.139999</td>\n",
       "      <td>16651800</td>\n",
       "    </tr>\n",
       "    <tr>\n",
       "      <th>1540</th>\n",
       "      <td>144.460007</td>\n",
       "      <td>144.759995</td>\n",
       "      <td>141.880005</td>\n",
       "      <td>143.940002</td>\n",
       "      <td>26724300</td>\n",
       "    </tr>\n",
       "    <tr>\n",
       "      <th>1541</th>\n",
       "      <td>144.210007</td>\n",
       "      <td>144.479996</td>\n",
       "      <td>141.520004</td>\n",
       "      <td>141.759995</td>\n",
       "      <td>21849700</td>\n",
       "    </tr>\n",
       "    <tr>\n",
       "      <th>1542</th>\n",
       "      <td>140.940002</td>\n",
       "      <td>143.328995</td>\n",
       "      <td>140.800003</td>\n",
       "      <td>142.199997</td>\n",
       "      <td>18607100</td>\n",
       "    </tr>\n",
       "  </tbody>\n",
       "</table>\n",
       "<p>1543 rows × 5 columns</p>\n",
       "</div>"
      ],
      "text/plain": [
       "            Open        High         Low       Close    Volume\n",
       "0      52.417000   53.347000   52.261501   53.250000  24752000\n",
       "1      53.215500   54.314499   53.160500   54.124001  28604000\n",
       "2      54.400002   54.678501   54.200100   54.320000  20092000\n",
       "3      54.700001   55.212502   54.599998   55.111500  25582000\n",
       "4      55.111500   55.563499   55.081001   55.347000  20952000\n",
       "...          ...         ...         ...         ...       ...\n",
       "1538  146.070007  148.039993  145.110001  146.369995  18138500\n",
       "1539  147.369995  147.830002  145.554993  147.139999  16651800\n",
       "1540  144.460007  144.759995  141.880005  143.940002  26724300\n",
       "1541  144.210007  144.479996  141.520004  141.759995  21849700\n",
       "1542  140.940002  143.328995  140.800003  142.199997  18607100\n",
       "\n",
       "[1543 rows x 5 columns]"
      ]
     },
     "execution_count": 63,
     "metadata": {},
     "output_type": "execute_result"
    }
   ],
   "source": [
    "df1"
   ]
  },
  {
   "cell_type": "code",
   "execution_count": 73,
   "metadata": {},
   "outputs": [
    {
     "data": {
      "text/plain": [
       "0            NaN\n",
       "1            NaN\n",
       "2            NaN\n",
       "3            NaN\n",
       "4            NaN\n",
       "          ...   \n",
       "1538    138.3860\n",
       "1539    138.5438\n",
       "1540    138.6707\n",
       "1541    138.7666\n",
       "1542    138.8941\n",
       "Name: Close, Length: 1543, dtype: float64"
      ]
     },
     "execution_count": 73,
     "metadata": {},
     "output_type": "execute_result"
    }
   ],
   "source": [
    "ma100=df1.Close.rolling(100).mean()\n",
    "ma100"
   ]
  },
  {
   "cell_type": "code",
   "execution_count": 74,
   "metadata": {},
   "outputs": [
    {
     "data": {
      "text/plain": [
       "[<matplotlib.lines.Line2D at 0x23cb05189d0>]"
      ]
     },
     "execution_count": 74,
     "metadata": {},
     "output_type": "execute_result"
    },
    {
     "data": {
      "image/png": "[encoded data removed]",
      "text/plain": [
       "<Figure size 1200x600 with 1 Axes>"
      ]
     },
     "metadata": {},
     "output_type": "display_data"
    }
   ],
   "source": [
    "plt.figure(figsize=(12,6))\n",
    "plt.plot(df1.Close)\n",
    "plt.plot(ma100,'red')\n",
    "\n"
   ]
  },
  {
   "cell_type": "code",
   "execution_count": 75,
   "metadata": {},
   "outputs": [
    {
     "data": {
      "text/plain": [
       "(1543, 5)"
      ]
     },
     "execution_count": 75,
     "metadata": {},
     "output_type": "execute_result"
    }
   ],
   "source": [
    "df1.shape"
   ]
  },
  {
   "cell_type": "code",
   "execution_count": 80,
   "metadata": {},
   "outputs": [
    {
     "name": "stdout",
     "output_type": "stream",
     "text": [
      "(1080, 1)\n",
      "(463, 1)\n"
     ]
    },
    {
     "data": {
      "text/html": [
       "<div>\n",
       "<style scoped>\n",
       "    .dataframe tbody tr th:only-of-type {\n",
       "        vertical-align: middle;\n",
       "    }\n",
       "\n",
       "    .dataframe tbody tr th {\n",
       "        vertical-align: top;\n",
       "    }\n",
       "\n",
       "    .dataframe thead th {\n",
       "        text-align: right;\n",
       "    }\n",
       "</style>\n",
       "<table border=\"1\" class=\"dataframe\">\n",
       "  <thead>\n",
       "    <tr style=\"text-align: right;\">\n",
       "      <th></th>\n",
       "      <th>Close</th>\n",
       "    </tr>\n",
       "  </thead>\n",
       "  <tbody>\n",
       "    <tr>\n",
       "      <th>1080</th>\n",
       "      <td>127.960999</td>\n",
       "    </tr>\n",
       "    <tr>\n",
       "      <th>1081</th>\n",
       "      <td>130.531006</td>\n",
       "    </tr>\n",
       "    <tr>\n",
       "      <th>1082</th>\n",
       "      <td>128.245499</td>\n",
       "    </tr>\n",
       "    <tr>\n",
       "      <th>1083</th>\n",
       "      <td>124.937500</td>\n",
       "    </tr>\n",
       "    <tr>\n",
       "      <th>1084</th>\n",
       "      <td>119.613998</td>\n",
       "    </tr>\n",
       "  </tbody>\n",
       "</table>\n",
       "</div>"
      ],
      "text/plain": [
       "           Close\n",
       "1080  127.960999\n",
       "1081  130.531006\n",
       "1082  128.245499\n",
       "1083  124.937500\n",
       "1084  119.613998"
      ]
     },
     "execution_count": 80,
     "metadata": {},
     "output_type": "execute_result"
    }
   ],
   "source": [
    "#Spliting data into training and testing\n",
    "d_train=pd.DataFrame(df1['Close'][0:int(len(df1)*0.70)])\n",
    "d_testing=pd.DataFrame(df1['Close'][int(len(df1)*0.70):int(len(df1))])\n",
    "print(d_train.shape)\n",
    "print(d_testing.shape)\n",
    "d_train.head()\n",
    "d_testing.head()\n"
   ]
  },
  {
   "cell_type": "code",
   "execution_count": 85,
   "metadata": {},
   "outputs": [
    {
     "name": "stdout",
     "output_type": "stream",
     "text": [
      "Note: you may need to restart the kernel to use updated packages.Collecting scikit-learn\n",
      "  Downloading scikit_learn-1.4.1.post1-cp310-cp310-win_amd64.whl (10.6 MB)\n",
      "     --------------------------------------- 10.6/10.6 MB 14.2 MB/s eta 0:00:00\n",
      "Requirement already satisfied: numpy<2.0,>=1.19.5 in c:\\users\\91891\\appdata\\local\\programs\\python\\python310\\lib\\site-packages (from scikit-learn) (1.26.4)\n",
      "Collecting joblib>=1.2.0\n",
      "  Downloading joblib-1.3.2-py3-none-any.whl (302 kB)\n",
      "     ------------------------------------- 302.2/302.2 kB 18.2 MB/s eta 0:00:00\n",
      "Collecting scipy>=1.6.0\n",
      "  Downloading scipy-1.12.0-cp310-cp310-win_amd64.whl (46.2 MB)\n",
      "     ---------------------------------------- 46.2/46.2 MB 5.4 MB/s eta 0:00:00\n",
      "Collecting threadpoolctl>=2.0.0\n",
      "  Downloading threadpoolctl-3.3.0-py3-none-any.whl (17 kB)\n",
      "Installing collected packages: threadpoolctl, scipy, joblib, scikit-learn\n",
      "Successfully installed joblib-1.3.2 scikit-learn-1.4.1.post1 scipy-1.12.0 threadpoolctl-3.3.0\n",
      "\n"
     ]
    },
    {
     "name": "stderr",
     "output_type": "stream",
     "text": [
      "\n",
      "[notice] A new release of pip available: 22.2.2 -> 24.0\n",
      "[notice] To update, run: python.exe -m pip install --upgrade pip\n"
     ]
    }
   ],
   "source": [
    "pip install scikit-learn"
   ]
  },
  {
   "cell_type": "code",
   "execution_count": 86,
   "metadata": {},
   "outputs": [],
   "source": [
    "from sklearn.preprocessing import MinMaxScaler\n",
    "scaler=MinMaxScaler(feature_range=(0,1))"
   ]
  },
  {
   "cell_type": "code",
   "execution_count": 89,
   "metadata": {},
   "outputs": [
    {
     "data": {
      "text/plain": [
       "array([[0.04356316],\n",
       "       [0.05214037],\n",
       "       [0.05406386],\n",
       "       ...,\n",
       "       [0.7808151 ],\n",
       "       [0.79957404],\n",
       "       [0.76980901]])"
      ]
     },
     "execution_count": 89,
     "metadata": {},
     "output_type": "execute_result"
    }
   ],
   "source": [
    "d_train_array=scaler.fit_transform(d_train)\n",
    "d_train_array"
   ]
  },
  {
   "cell_type": "code",
   "execution_count": 90,
   "metadata": {},
   "outputs": [
    {
     "data": {
      "text/plain": [
       "(1080, 1)"
      ]
     },
     "execution_count": 90,
     "metadata": {},
     "output_type": "execute_result"
    }
   ],
   "source": [
    "d_train_array.shape"
   ]
  },
  {
   "cell_type": "code",
   "execution_count": 93,
   "metadata": {},
   "outputs": [],
   "source": [
    "x_train=[]\n",
    "y_train=[]\n",
    "\n",
    "for i in range(100,d_train_array.shape[0]):\n",
    "    x_train.append(d_train_array[i-100:i])\n",
    "    y_train.append(d_train_array[i,0])\n",
    "\n",
    "x_train,y_train =np.array(x_train),np.array(y_train)\n"
   ]
  },
  {
   "cell_type": "code",
   "execution_count": 96,
   "metadata": {},
   "outputs": [],
   "source": [
    "#ml model\n",
    "from keras.layers import Dense,Dropout,LSTM\n",
    "from keras.models import Sequential"
   ]
  },
  {
   "cell_type": "code",
   "execution_count": null,
   "metadata": {},
   "outputs": [],
   "source": [
    "model=Sequential()\n",
    "model.add(LSTM(units=5,activation='relu',return_sequences=True,\n",
    "               input_shape=(x_train.shape[1],1)))\n",
    "model.add(Dropout(0.2))\n",
    "\n",
    "model.add(LSTM(units=5,activation='relu',return_sequences=True,\n",
    "               ))\n",
    "model.add(Dropout(0.2))\n",
    "\n",
    "model.add(LSTM(units=5,activation='relu',return_sequences=True,\n",
    "               ))\n",
    "model.add(Dropout(0.2))\n",
    "\n",
    "model.add(LSTM(units=5,activation='relu',return_sequences=True,\n",
    "               ))\n",
    "model.add(Dropout(0.2))"
   ]
  }
 ],
 "metadata": {
  "kernelspec": {
   "display_name": "Python 3",
   "language": "python",
   "name": "python3"
  },
  "language_info": {
   "codemirror_mode": {
    "name": "ipython",
    "version": 3
   },
   "file_extension": ".py",
   "mimetype": "text/x-python",
   "name": "python",
   "nbconvert_exporter": "python",
   "pygments_lexer": "ipython3",
   "version": "3.10.6"
  }
 },
 "nbformat": 4,
 "nbformat_minor": 2
}
